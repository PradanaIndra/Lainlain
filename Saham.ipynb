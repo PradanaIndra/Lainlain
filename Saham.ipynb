{
 "cells": [
  {
   "cell_type": "code",
   "execution_count": 1160,
   "metadata": {},
   "outputs": [],
   "source": [
    "import pandas as pd\n",
    "import numpy as np\n",
    "from pandas import datetime\n",
    "import random\n",
    "import matplotlib.pyplot as plt \n",
    "import plotly_express as px\n",
    "from sklearn.metrics import mean_squared_error"
   ]
  },
  {
   "cell_type": "markdown",
   "metadata": {},
   "source": [
    "# load data"
   ]
  },
  {
   "cell_type": "code",
   "execution_count": 1249,
   "metadata": {},
   "outputs": [],
   "source": [
    "saham1=pd.read_csv('ACES.JK-1.csv')\n",
    "saham2=pd.read_csv('GGRM.JK.csv')\n",
    "saham3=pd.read_csv('SMSM.JK.csv')\n",
    "saham4=pd.read_csv('INCO.JK.csv')\n",
    "saham5=pd.read_csv('MAPI.JK.csv')\n",
    "\n"
   ]
  },
  {
   "cell_type": "markdown",
   "metadata": {},
   "source": [
    "# definisi variabel yang akan butuhkan\n",
    "retur,jumlah harga naik(sumnaik),jumlah harga turun(sumturun),total nilai return turun dan return naik"
   ]
  },
  {
   "cell_type": "code",
   "execution_count": 1250,
   "metadata": {},
   "outputs": [],
   "source": [
    "Return1=[]\n",
    "Return2=[]\n",
    "Return3=[]\n",
    "Return4=[]\n",
    "Return5=[]\n"
   ]
  },
  {
   "cell_type": "code",
   "execution_count": 1251,
   "metadata": {},
   "outputs": [
    {
     "data": {
      "text/html": [
       "<div>\n",
       "<style scoped>\n",
       "    .dataframe tbody tr th:only-of-type {\n",
       "        vertical-align: middle;\n",
       "    }\n",
       "\n",
       "    .dataframe tbody tr th {\n",
       "        vertical-align: top;\n",
       "    }\n",
       "\n",
       "    .dataframe thead th {\n",
       "        text-align: right;\n",
       "    }\n",
       "</style>\n",
       "<table border=\"1\" class=\"dataframe\">\n",
       "  <thead>\n",
       "    <tr style=\"text-align: right;\">\n",
       "      <th></th>\n",
       "      <th>No</th>\n",
       "      <th>Date</th>\n",
       "      <th>Close</th>\n",
       "      <th>MAX</th>\n",
       "      <th>Skala</th>\n",
       "    </tr>\n",
       "  </thead>\n",
       "  <tbody>\n",
       "    <tr>\n",
       "      <td>0</td>\n",
       "      <td>0</td>\n",
       "      <td>1/1/2009</td>\n",
       "      <td>77.0</td>\n",
       "      <td>1525</td>\n",
       "      <td>0.050492</td>\n",
       "    </tr>\n",
       "    <tr>\n",
       "      <td>1</td>\n",
       "      <td>1</td>\n",
       "      <td>1/8/2009</td>\n",
       "      <td>67.0</td>\n",
       "      <td>1525</td>\n",
       "      <td>0.043934</td>\n",
       "    </tr>\n",
       "    <tr>\n",
       "      <td>2</td>\n",
       "      <td>2</td>\n",
       "      <td>1/15/2009</td>\n",
       "      <td>71.0</td>\n",
       "      <td>1525</td>\n",
       "      <td>0.046557</td>\n",
       "    </tr>\n",
       "    <tr>\n",
       "      <td>3</td>\n",
       "      <td>3</td>\n",
       "      <td>1/22/2009</td>\n",
       "      <td>63.0</td>\n",
       "      <td>1525</td>\n",
       "      <td>0.041311</td>\n",
       "    </tr>\n",
       "    <tr>\n",
       "      <td>4</td>\n",
       "      <td>4</td>\n",
       "      <td>1/29/2009</td>\n",
       "      <td>63.0</td>\n",
       "      <td>1525</td>\n",
       "      <td>0.041311</td>\n",
       "    </tr>\n",
       "    <tr>\n",
       "      <td>...</td>\n",
       "      <td>...</td>\n",
       "      <td>...</td>\n",
       "      <td>...</td>\n",
       "      <td>...</td>\n",
       "      <td>...</td>\n",
       "    </tr>\n",
       "    <tr>\n",
       "      <td>517</td>\n",
       "      <td>517</td>\n",
       "      <td>11/29/2018</td>\n",
       "      <td>1490.0</td>\n",
       "      <td>1525</td>\n",
       "      <td>0.977049</td>\n",
       "    </tr>\n",
       "    <tr>\n",
       "      <td>518</td>\n",
       "      <td>518</td>\n",
       "      <td>12/6/2018</td>\n",
       "      <td>1525.0</td>\n",
       "      <td>1525</td>\n",
       "      <td>1.000000</td>\n",
       "    </tr>\n",
       "    <tr>\n",
       "      <td>519</td>\n",
       "      <td>519</td>\n",
       "      <td>12/13/2018</td>\n",
       "      <td>1495.0</td>\n",
       "      <td>1525</td>\n",
       "      <td>0.980328</td>\n",
       "    </tr>\n",
       "    <tr>\n",
       "      <td>520</td>\n",
       "      <td>520</td>\n",
       "      <td>12/20/2018</td>\n",
       "      <td>1455.0</td>\n",
       "      <td>1525</td>\n",
       "      <td>0.954098</td>\n",
       "    </tr>\n",
       "    <tr>\n",
       "      <td>521</td>\n",
       "      <td>521</td>\n",
       "      <td>12/27/2018</td>\n",
       "      <td>1490.0</td>\n",
       "      <td>1525</td>\n",
       "      <td>0.977049</td>\n",
       "    </tr>\n",
       "  </tbody>\n",
       "</table>\n",
       "<p>522 rows × 5 columns</p>\n",
       "</div>"
      ],
      "text/plain": [
       "      No        Date   Close   MAX     Skala\n",
       "0      0    1/1/2009    77.0  1525  0.050492\n",
       "1      1    1/8/2009    67.0  1525  0.043934\n",
       "2      2   1/15/2009    71.0  1525  0.046557\n",
       "3      3   1/22/2009    63.0  1525  0.041311\n",
       "4      4   1/29/2009    63.0  1525  0.041311\n",
       "..   ...         ...     ...   ...       ...\n",
       "517  517  11/29/2018  1490.0  1525  0.977049\n",
       "518  518   12/6/2018  1525.0  1525  1.000000\n",
       "519  519  12/13/2018  1495.0  1525  0.980328\n",
       "520  520  12/20/2018  1455.0  1525  0.954098\n",
       "521  521  12/27/2018  1490.0  1525  0.977049\n",
       "\n",
       "[522 rows x 5 columns]"
      ]
     },
     "execution_count": 1251,
     "metadata": {},
     "output_type": "execute_result"
    }
   ],
   "source": [
    "saham1"
   ]
  },
  {
   "cell_type": "markdown",
   "metadata": {},
   "source": [
    "# sort data 2017-2018"
   ]
  },
  {
   "cell_type": "code",
   "execution_count": 1252,
   "metadata": {},
   "outputs": [],
   "source": [
    "saham1=saham1.iloc[418:,[1,2]]\n",
    "saham2=saham2.iloc[418:,[1,2]]\n",
    "saham3=saham3.iloc[418:,[1,2]]\n",
    "saham4=saham4.iloc[418:,[1,2]]\n",
    "saham5=saham5.iloc[418:,[1,2]]"
   ]
  },
  {
   "cell_type": "code",
   "execution_count": 1253,
   "metadata": {},
   "outputs": [],
   "source": [
    "for i in range(0,len(saham1)):\n",
    "    saham1.iloc[i,[1]]=saham1.iloc[i,[1]].values/1000\n",
    "for i in range(0,len(saham2)):\n",
    "    saham2.iloc[i,[1]]=saham2.iloc[i,[1]].values/1000\n",
    "for i in range(0,len(saham3)):\n",
    "    saham3.iloc[i,[1]]=saham3.iloc[i,[1]].values/1000\n",
    "for i in range(0,len(saham4)):\n",
    "    saham4.iloc[i,[1]]=saham4.iloc[i,[1]].values/1000\n",
    "for i in range(0,len(saham5)):\n",
    "    saham5.iloc[i,[1]]=saham5.iloc[i,[1]].values/1000"
   ]
  },
  {
   "cell_type": "code",
   "execution_count": 1254,
   "metadata": {},
   "outputs": [],
   "source": [
    "saham1\n",
    "X1=saham1.iloc[:,[1]].values\n",
    "X2=saham2.iloc[:,[1]].values\n",
    "X3=saham3.iloc[:,[1]].values\n",
    "X4=saham4.iloc[:,[1]].values\n",
    "X5=saham5.iloc[:,[1]].values"
   ]
  },
  {
   "cell_type": "markdown",
   "metadata": {},
   "source": [
    "# cari ekspektasi  return  tiap saham\n",
    "rumus (S(i)-(S(i-1))/S(i-1)"
   ]
  },
  {
   "cell_type": "markdown",
   "metadata": {},
   "source": [
    "step 1 menghitung total return yang naik dan yang turun serta menghitung jumlah total harga saham naik dan turun"
   ]
  },
  {
   "cell_type": "code",
   "execution_count": 1255,
   "metadata": {},
   "outputs": [],
   "source": [
    "for i in range(1,len(saham1)):\n",
    "    Return1.append((X1[i]-X1[i-1])/X1[i-1])\n",
    "for i in range(1,len(saham2)):\n",
    "    Return2.append((X2[i]-X2[i-1])/X2[i-1])\n",
    "for i in range(1,len(saham3)):\n",
    "    Return3.append((X3[i]-X3[i-1])/X3[i-1])\n",
    "for i in range(1,len(saham4)):\n",
    "    Return4.append((X4[i]-X4[i-1])/X4[i-1])\n",
    "for i in range(1,len(saham5)):\n",
    "    Return5.append((X5[i]-X5[i-1])/X5[i-1])"
   ]
  },
  {
   "cell_type": "markdown",
   "metadata": {},
   "source": [
    "# mencari nilai expektasi return saham 1-5"
   ]
  },
  {
   "cell_type": "code",
   "execution_count": 1256,
   "metadata": {},
   "outputs": [
    {
     "name": "stdout",
     "output_type": "stream",
     "text": [
      "P: 0.5339805825242718  ,u: [0.03595273] , d: [-0.02573001]\n",
      "ekspektasi return saham1: [0.00720738]\n"
     ]
    }
   ],
   "source": [
    "sumnaik=0\n",
    "sumturun=0\n",
    "returun=0\n",
    "renaik=0\n",
    "for i in range(0,len(Return1)):\n",
    "    if Return1[i] > 0:\n",
    "        sumnaik=sumnaik+1\n",
    "        renaik=renaik+Return1[i]\n",
    "    else :\n",
    "        sumturun= sumturun+1\n",
    "        returun=returun+Return1[i]\n",
    "p1=sumnaik/(sumturun+sumnaik)\n",
    "u1=renaik/sumnaik\n",
    "d1=returun/sumturun\n",
    "print(\"P:\",p1,\" ,u:\",u1,\", d:\",d1)\n",
    "ERS1=p1*u1+(1-p1)*d1\n",
    "print(\"ekspektasi return saham1:\",ERS1)"
   ]
  },
  {
   "cell_type": "code",
   "execution_count": 1257,
   "metadata": {},
   "outputs": [
    {
     "name": "stdout",
     "output_type": "stream",
     "text": [
      "P: 0.5145631067961165  ,u: [0.02904431] , d: [-0.02389729]\n",
      "ekspektasi return saham1: [0.0033445]\n"
     ]
    }
   ],
   "source": [
    "sumnaik=0\n",
    "sumturun=0\n",
    "returun=0\n",
    "renaik=0\n",
    "for i in range(0,len(Return2)):\n",
    "    if Return2[i] > 0:\n",
    "        sumnaik=sumnaik+1\n",
    "        renaik=renaik+Return2[i]\n",
    "    else :\n",
    "        sumturun= sumturun+1\n",
    "        returun=returun+Return2[i]\n",
    "p2=sumnaik/(sumturun+sumnaik)\n",
    "u2=renaik/sumnaik\n",
    "d2=returun/sumturun\n",
    "print(\"P:\",p2,\" ,u:\",u2,\", d:\",d2)\n",
    "ERS2=p2*u2+(1-p2)*d2\n",
    "print(\"ekspektasi return saham1:\",ERS2)"
   ]
  },
  {
   "cell_type": "code",
   "execution_count": 1258,
   "metadata": {},
   "outputs": [
    {
     "name": "stdout",
     "output_type": "stream",
     "text": [
      "P: 0.5436893203883495  ,u: [0.03173484] , d: [-0.02649091]\n",
      "ekspektasi return saham1: [0.00516581]\n"
     ]
    }
   ],
   "source": [
    "sumnaik=0\n",
    "sumturun=0\n",
    "returun=0\n",
    "renaik=0\n",
    "for i in range(0,len(Return3)):\n",
    "    if Return3[i] > 0:\n",
    "        sumnaik=sumnaik+1\n",
    "        renaik=renaik+Return3[i]\n",
    "    else :\n",
    "        sumturun= sumturun+1\n",
    "        returun=returun+Return3[i]\n",
    "p3=sumnaik/(sumturun+sumnaik)\n",
    "u3=renaik/sumnaik\n",
    "d3=returun/sumturun\n",
    "print(\"P:\",p3,\" ,u:\",u3,\", d:\",d3)\n",
    "ERS3=p3*u3+(1-p3)*d3\n",
    "print(\"ekspektasi return saham1:\",ERS3)"
   ]
  },
  {
   "cell_type": "code",
   "execution_count": 1259,
   "metadata": {},
   "outputs": [
    {
     "name": "stdout",
     "output_type": "stream",
     "text": [
      "P: 0.4563106796116505  ,u: [0.05838637] , d: [-0.04384666]\n",
      "ekspektasi return saham4: [0.00280336]\n"
     ]
    }
   ],
   "source": [
    "sumnaik=0\n",
    "sumturun=0\n",
    "returun=0\n",
    "renaik=0\n",
    "for i in range(0,len(Return4)):\n",
    "    if Return4[i] > 0:\n",
    "        sumnaik=sumnaik+1\n",
    "        renaik=renaik+Return4[i]\n",
    "    else :\n",
    "        sumturun= sumturun+1\n",
    "        returun=returun+Return4[i]\n",
    "p4=sumnaik/(sumturun+sumnaik)\n",
    "u4=renaik/sumnaik\n",
    "d4=returun/sumturun\n",
    "print(\"P:\",p4,\" ,u:\",u4,\", d:\",d4)\n",
    "ERS4=p4*u4+(1-p4)*d4\n",
    "print(\"ekspektasi return saham4:\",ERS4)"
   ]
  },
  {
   "cell_type": "code",
   "execution_count": 1260,
   "metadata": {},
   "outputs": [
    {
     "name": "stdout",
     "output_type": "stream",
     "text": [
      "P: 0.5145631067961165  ,u: [0.20065038] , d: [-0.04785334]\n",
      "ekspektasi return saham5: [0.08001751]\n"
     ]
    }
   ],
   "source": [
    "sumnaik=0\n",
    "sumturun=0\n",
    "returun=0\n",
    "renaik=0\n",
    "for i in range(0,len(Return5)):\n",
    "    if Return5[i] > 0:\n",
    "        sumnaik=sumnaik+1\n",
    "        renaik=renaik+Return5[i]\n",
    "    else :\n",
    "        sumturun= sumturun+1\n",
    "        returun=returun+Return5[i]\n",
    "p5=sumnaik/(sumturun+sumnaik)\n",
    "u5=renaik/sumnaik\n",
    "d5=returun/sumturun\n",
    "print(\"P:\",p5,\" ,u:\",u5,\", d:\",d5)\n",
    "ERS5=p5*u5+(1-p5)*d5\n",
    "print(\"ekspektasi return saham5:\",ERS5)"
   ]
  },
  {
   "cell_type": "markdown",
   "metadata": {},
   "source": [
    "# membangun vektor yang berisi nilai expektasi return tiap saham"
   ]
  },
  {
   "cell_type": "code",
   "execution_count": 1261,
   "metadata": {},
   "outputs": [
    {
     "name": "stdout",
     "output_type": "stream",
     "text": [
      "[0.03595273051206411, 0.029044308293298897, 0.031734839948146534, 0.05838636823583803, 0.20065038486642414] [-0.025730010119944996, -0.02389729496272115, -0.02649091456263367, -0.043846656917797565, -0.0478533391091241] [0.5339805825242718, 0.5145631067961165, 0.5436893203883495, 0.4563106796116505, 0.5145631067961165]\n"
     ]
    }
   ],
   "source": [
    "U=np.array([u1,u2,u3,u4,u5])\n",
    "D=np.array([d1,d2,d3,d4,d5])\n",
    "P=np.array([p1,p2,p3,p4,p5])\n",
    "ret1=[]\n",
    "ret2=[]\n",
    "pro=[]\n",
    "for i in range(5):\n",
    "    ret1.append(U[i][0])\n",
    "for i in range(5):\n",
    "    ret2.append(D[i][0])\n",
    "for i in range(5):\n",
    "    pro.append(P[i])\n",
    "\n",
    "print(ret1,ret2,pro)"
   ]
  },
  {
   "cell_type": "code",
   "execution_count": 1262,
   "metadata": {},
   "outputs": [
    {
     "name": "stdout",
     "output_type": "stream",
     "text": [
      "[0.007207375654428796, 0.003344500887463922, 0.0051658063364312945, 0.0028033642688128566, 0.08001750915013858] [0.0009987431059912569, 0.0007112945929250778, 0.000867774036709459, 0.0026008071639008323, 0.021828229916388154]\n"
     ]
    }
   ],
   "source": [
    "Ek=[]\n",
    "EK2=[]\n",
    "for i in range(5):\n",
    "    x=ret1[i]*P[i]+ret2[i]*(1-P[i])\n",
    "    Ek.append(x)\n",
    "for i in range(5):\n",
    "    EK2.append(ret1[i]**2*P[i]+ret2[i]**2*(1-P[i]))\n",
    "print(Ek,EK2)\n"
   ]
  },
  {
   "cell_type": "markdown",
   "metadata": {},
   "source": [
    "# menghitung nilai korelasi antar saham"
   ]
  },
  {
   "cell_type": "code",
   "execution_count": 1263,
   "metadata": {},
   "outputs": [
    {
     "data": {
      "text/html": [
       "<div>\n",
       "<style scoped>\n",
       "    .dataframe tbody tr th:only-of-type {\n",
       "        vertical-align: middle;\n",
       "    }\n",
       "\n",
       "    .dataframe tbody tr th {\n",
       "        vertical-align: top;\n",
       "    }\n",
       "\n",
       "    .dataframe thead th {\n",
       "        text-align: right;\n",
       "    }\n",
       "</style>\n",
       "<table border=\"1\" class=\"dataframe\">\n",
       "  <thead>\n",
       "    <tr style=\"text-align: right;\">\n",
       "      <th></th>\n",
       "      <th>s1</th>\n",
       "      <th>s2</th>\n",
       "      <th>s3</th>\n",
       "      <th>s4</th>\n",
       "      <th>s5</th>\n",
       "    </tr>\n",
       "  </thead>\n",
       "  <tbody>\n",
       "    <tr>\n",
       "      <td>0</td>\n",
       "      <td>-0.032680</td>\n",
       "      <td>-0.002375</td>\n",
       "      <td>-0.005587</td>\n",
       "      <td>-0.182119</td>\n",
       "      <td>-0.018957</td>\n",
       "    </tr>\n",
       "    <tr>\n",
       "      <td>1</td>\n",
       "      <td>0.006757</td>\n",
       "      <td>0.000000</td>\n",
       "      <td>0.000000</td>\n",
       "      <td>-0.068826</td>\n",
       "      <td>-0.009662</td>\n",
       "    </tr>\n",
       "    <tr>\n",
       "      <td>2</td>\n",
       "      <td>0.013423</td>\n",
       "      <td>-0.004762</td>\n",
       "      <td>0.011236</td>\n",
       "      <td>0.113043</td>\n",
       "      <td>0.053659</td>\n",
       "    </tr>\n",
       "    <tr>\n",
       "      <td>3</td>\n",
       "      <td>0.033113</td>\n",
       "      <td>-0.001595</td>\n",
       "      <td>0.083333</td>\n",
       "      <td>0.042969</td>\n",
       "      <td>0.004630</td>\n",
       "    </tr>\n",
       "    <tr>\n",
       "      <td>4</td>\n",
       "      <td>0.000000</td>\n",
       "      <td>-0.017572</td>\n",
       "      <td>0.056410</td>\n",
       "      <td>0.029963</td>\n",
       "      <td>0.059908</td>\n",
       "    </tr>\n",
       "    <tr>\n",
       "      <td>...</td>\n",
       "      <td>...</td>\n",
       "      <td>...</td>\n",
       "      <td>...</td>\n",
       "      <td>...</td>\n",
       "      <td>...</td>\n",
       "    </tr>\n",
       "    <tr>\n",
       "      <td>98</td>\n",
       "      <td>-0.003344</td>\n",
       "      <td>-0.019114</td>\n",
       "      <td>-0.003521</td>\n",
       "      <td>0.152174</td>\n",
       "      <td>0.069182</td>\n",
       "    </tr>\n",
       "    <tr>\n",
       "      <td>99</td>\n",
       "      <td>0.023490</td>\n",
       "      <td>0.001856</td>\n",
       "      <td>0.014134</td>\n",
       "      <td>-0.044025</td>\n",
       "      <td>-0.058824</td>\n",
       "    </tr>\n",
       "    <tr>\n",
       "      <td>100</td>\n",
       "      <td>-0.019672</td>\n",
       "      <td>0.029330</td>\n",
       "      <td>-0.069686</td>\n",
       "      <td>0.042763</td>\n",
       "      <td>-0.012500</td>\n",
       "    </tr>\n",
       "    <tr>\n",
       "      <td>101</td>\n",
       "      <td>-0.026756</td>\n",
       "      <td>0.008998</td>\n",
       "      <td>-0.011236</td>\n",
       "      <td>-0.018927</td>\n",
       "      <td>-0.006329</td>\n",
       "    </tr>\n",
       "    <tr>\n",
       "      <td>102</td>\n",
       "      <td>0.024055</td>\n",
       "      <td>-0.005648</td>\n",
       "      <td>0.060606</td>\n",
       "      <td>0.048232</td>\n",
       "      <td>0.025478</td>\n",
       "    </tr>\n",
       "  </tbody>\n",
       "</table>\n",
       "<p>103 rows × 5 columns</p>\n",
       "</div>"
      ],
      "text/plain": [
       "           s1        s2        s3        s4        s5\n",
       "0   -0.032680 -0.002375 -0.005587 -0.182119 -0.018957\n",
       "1    0.006757  0.000000  0.000000 -0.068826 -0.009662\n",
       "2    0.013423 -0.004762  0.011236  0.113043  0.053659\n",
       "3    0.033113 -0.001595  0.083333  0.042969  0.004630\n",
       "4    0.000000 -0.017572  0.056410  0.029963  0.059908\n",
       "..        ...       ...       ...       ...       ...\n",
       "98  -0.003344 -0.019114 -0.003521  0.152174  0.069182\n",
       "99   0.023490  0.001856  0.014134 -0.044025 -0.058824\n",
       "100 -0.019672  0.029330 -0.069686  0.042763 -0.012500\n",
       "101 -0.026756  0.008998 -0.011236 -0.018927 -0.006329\n",
       "102  0.024055 -0.005648  0.060606  0.048232  0.025478\n",
       "\n",
       "[103 rows x 5 columns]"
      ]
     },
     "execution_count": 1263,
     "metadata": {},
     "output_type": "execute_result"
    }
   ],
   "source": [
    "dsaham=pd.concat([rsaham1,rsaham2,rsaham3,rsaham4,rsaham5],axis=1)\n",
    "dsaham.columns=kode_saham = [\"s1\",\"s2\",\"s3\",\"s4\",\"s5\"]\n",
    "dsaham"
   ]
  },
  {
   "cell_type": "code",
   "execution_count": 1264,
   "metadata": {},
   "outputs": [
    {
     "name": "stdout",
     "output_type": "stream",
     "text": [
      "[0.000946796842167204, 0.0007001089067388308, 0.0008410884816039453, 0.0025929483126771757, 0.015425428145795641]\n"
     ]
    }
   ],
   "source": [
    "import statistics as stt\n",
    "var = []\n",
    "for x in range(len(Ek))  :\n",
    "  \n",
    "  var.append(EK2[x]-(Ek[x])**2)\n",
    "print(var)"
   ]
  },
  {
   "cell_type": "markdown",
   "metadata": {},
   "source": [
    "# menghitung nilai variansi setiap saham"
   ]
  },
  {
   "cell_type": "code",
   "execution_count": 1265,
   "metadata": {},
   "outputs": [
    {
     "name": "stdout",
     "output_type": "stream",
     "text": [
      "[[ 1.          0.16283409  0.17812604  0.29525312 -0.16429617]\n",
      " [ 0.16283409  1.          0.00536608  0.05964359  0.01246905]\n",
      " [ 0.17812604  0.00536608  1.          0.03628555 -0.02576389]\n",
      " [ 0.29525312  0.05964359  0.03628555  1.         -0.05523218]\n",
      " [-0.16429617  0.01246905 -0.02576389 -0.05523218  1.        ]]\n"
     ]
    }
   ],
   "source": [
    "\n",
    "list_corr=[]\n",
    "for x in dsaham.corr():\n",
    "  list_corr.append(dsaham.corr(method='pearson')[x].tolist())\n",
    "  #print(dataset.corr()[x].tolist())\n",
    "rho = np.array(list_corr)\n",
    "print(rho)"
   ]
  },
  {
   "cell_type": "markdown",
   "metadata": {},
   "source": [
    "# menghitung nilai standar deviasi"
   ]
  },
  {
   "cell_type": "code",
   "execution_count": 1266,
   "metadata": {},
   "outputs": [],
   "source": [
    "std_dev = []\n",
    "for i in var :\n",
    "  std_dev.append(np.sqrt(i))"
   ]
  },
  {
   "cell_type": "code",
   "execution_count": 1267,
   "metadata": {},
   "outputs": [
    {
     "data": {
      "text/plain": [
       "[0.03077006405854892,\n",
       " 0.02645957117450755,\n",
       " 0.02900152550477208,\n",
       " 0.05092100070380762,\n",
       " 0.12419914712185282]"
      ]
     },
     "execution_count": 1267,
     "metadata": {},
     "output_type": "execute_result"
    }
   ],
   "source": [
    "\n",
    "n = len(std_dev)\n",
    "\n",
    "u = np.ones(n)\n",
    "std_dev\n"
   ]
  },
  {
   "cell_type": "markdown",
   "metadata": {},
   "source": [
    "# cek aturan agar tidak ada short selling \n",
    "aturan agar tidak ada short selling P < std_dev1/std_dev2"
   ]
  },
  {
   "cell_type": "code",
   "execution_count": 1268,
   "metadata": {},
   "outputs": [],
   "source": [
    "def is_short_selling(rho,std_dev):\n",
    "  n = len(std_dev)\n",
    "  print(n)\n",
    "  check = 0\n",
    "  #rho = rho.sort()\n",
    "  std_Dev =std_dev.sort()\n",
    "\n",
    "  for i in range(n):\n",
    "    for j in range(i,n):\n",
    "      if i < j :\n",
    "        x = std_dev[i]/std_dev[j]\n",
    "        #print(rho[i][j])\n",
    "        if rho[i][j] > x:\n",
    "            \n",
    "            check = check+1\n",
    "        \n",
    "  return check"
   ]
  },
  {
   "cell_type": "code",
   "execution_count": 1269,
   "metadata": {},
   "outputs": [
    {
     "name": "stdout",
     "output_type": "stream",
     "text": [
      "5\n"
     ]
    },
    {
     "data": {
      "text/plain": [
       "0"
      ]
     },
     "execution_count": 1269,
     "metadata": {},
     "output_type": "execute_result"
    }
   ],
   "source": [
    "is_short_selling(rho,std_dev)"
   ]
  },
  {
   "cell_type": "markdown",
   "metadata": {},
   "source": [
    "# menggubah agar tidak ada short selling"
   ]
  },
  {
   "cell_type": "code",
   "execution_count": 1270,
   "metadata": {},
   "outputs": [],
   "source": [
    "def is_not_short_selling(rho,std_dev):\n",
    "  n = len(std_dev)\n",
    "  print(n)\n",
    "  check = 0\n",
    "  #rho = rho.sort()\n",
    "  std_Dev =std_dev.sort()\n",
    "\n",
    "  for i in range(n):\n",
    "    for j in range(i,n):\n",
    "      if i < j :\n",
    "        x = std_dev[i]/std_dev[j]\n",
    "        #print(rho[i][j])\n",
    "        if rho[i][j] > x:\n",
    "            rho[i][j]=x/2"
   ]
  },
  {
   "cell_type": "code",
   "execution_count": 1271,
   "metadata": {},
   "outputs": [
    {
     "name": "stdout",
     "output_type": "stream",
     "text": [
      "5\n"
     ]
    }
   ],
   "source": [
    "is_not_short_selling(rho,std_dev)"
   ]
  },
  {
   "cell_type": "markdown",
   "metadata": {},
   "source": [
    "# membangun matrix C"
   ]
  },
  {
   "cell_type": "code",
   "execution_count": 1272,
   "metadata": {},
   "outputs": [
    {
     "name": "stdout",
     "output_type": "stream",
     "text": [
      "[[ 7.00108907e-04  1.24953659e-04  1.45023579e-04  3.97808655e-04\n",
      "  -5.39919318e-04]\n",
      " [ 1.24953659e-04  8.41088482e-04  4.78857628e-06  8.80808555e-05\n",
      "   4.49130771e-05]\n",
      " [ 1.45023579e-04  4.78857628e-06  9.46796842e-04  5.68537462e-05\n",
      "  -9.84596981e-05]\n",
      " [ 3.97808655e-04  8.80808555e-05  5.68537462e-05  2.59294831e-03\n",
      "  -3.49307337e-04]\n",
      " [-5.39919318e-04  4.49130771e-05 -9.84596981e-05 -3.49307337e-04\n",
      "   1.54254281e-02]]\n"
     ]
    }
   ],
   "source": [
    "C = (np.zeros((n,n)))\n",
    "\n",
    "for i in range(n):\n",
    "  for j in range(n) :\n",
    "    C[i][j] = std_dev[i]*rho[i][j]*std_dev[j]\n",
    "print(C)"
   ]
  },
  {
   "cell_type": "markdown",
   "metadata": {},
   "source": [
    "# mencari nilai bobot tanpa short sell yang minimum"
   ]
  },
  {
   "cell_type": "code",
   "execution_count": 1273,
   "metadata": {},
   "outputs": [
    {
     "name": "stdout",
     "output_type": "stream",
     "text": [
      "[0.32235024 0.31053381 0.27583376 0.05777797 0.03350422]\n"
     ]
    }
   ],
   "source": [
    "from numpy.linalg import inv\n",
    "from numpy.linalg import det\n",
    "u = np.ones(n)\n",
    "uT = np.transpose(u)\n",
    "\n",
    "CInv = inv(C)\n",
    "\n",
    "w = np.dot(u,CInv)/(u.dot(CInv).dot(uT))\n",
    "print(w)"
   ]
  },
  {
   "cell_type": "code",
   "execution_count": 1274,
   "metadata": {},
   "outputs": [
    {
     "name": "stdout",
     "output_type": "stream",
     "text": [
      "jumlah w =  1.0\n"
     ]
    },
    {
     "data": {
      "text/plain": [
       "array([0.32235024, 0.31053381, 0.27583376, 0.05777797, 0.03350422])"
      ]
     },
     "execution_count": 1274,
     "metadata": {},
     "output_type": "execute_result"
    }
   ],
   "source": [
    "#w = np.array([0.3,0.4])\n",
    "wT = np.transpose(w)\n",
    "x = np.dot(u,wT)\n",
    "print(\"jumlah w = \",x)\n",
    "\n",
    "WT=wT\n",
    "wT"
   ]
  },
  {
   "cell_type": "code",
   "execution_count": 1275,
   "metadata": {},
   "outputs": [
    {
     "name": "stdout",
     "output_type": "stream",
     "text": [
      "0.0003093800133533327\n"
     ]
    }
   ],
   "source": [
    "risk = w.dot(C).dot(wT)\n",
    "print(risk)"
   ]
  },
  {
   "cell_type": "code",
   "execution_count": 1276,
   "metadata": {},
   "outputs": [
    {
     "name": "stdout",
     "output_type": "stream",
     "text": [
      "[0.007207375654428796, 0.003344500887463922, 0.0051658063364312945, 0.0028033642688128566, 0.08001750915013858]\n",
      "ekspektasi return =  0.007629680322273249\n",
      "risk =  0.0003093800133533327\n",
      "[0.3224, 0.3105, 0.2758, 0.0578, 0.0335, 0.007629680322273249, 0.0003093800133533327]\n",
      "['s1', 's2', 's3', 's4', 's5']\n"
     ]
    },
    {
     "data": {
      "text/html": [
       "<div>\n",
       "<style scoped>\n",
       "    .dataframe tbody tr th:only-of-type {\n",
       "        vertical-align: middle;\n",
       "    }\n",
       "\n",
       "    .dataframe tbody tr th {\n",
       "        vertical-align: top;\n",
       "    }\n",
       "\n",
       "    .dataframe thead th {\n",
       "        text-align: right;\n",
       "    }\n",
       "</style>\n",
       "<table border=\"1\" class=\"dataframe\">\n",
       "  <thead>\n",
       "    <tr style=\"text-align: right;\">\n",
       "      <th></th>\n",
       "      <th>s1</th>\n",
       "      <th>s2</th>\n",
       "      <th>s3</th>\n",
       "      <th>s4</th>\n",
       "      <th>s5</th>\n",
       "      <th>Expected Return</th>\n",
       "      <th>Risiko</th>\n",
       "    </tr>\n",
       "  </thead>\n",
       "  <tbody>\n",
       "    <tr>\n",
       "      <td>0</td>\n",
       "      <td>0.3224</td>\n",
       "      <td>0.3105</td>\n",
       "      <td>0.2758</td>\n",
       "      <td>0.0578</td>\n",
       "      <td>0.0335</td>\n",
       "      <td>0.00763</td>\n",
       "      <td>0.000309</td>\n",
       "    </tr>\n",
       "  </tbody>\n",
       "</table>\n",
       "</div>"
      ],
      "text/plain": [
       "       s1      s2      s3      s4      s5  Expected Return    Risiko\n",
       "0  0.3224  0.3105  0.2758  0.0578  0.0335          0.00763  0.000309"
      ]
     },
     "execution_count": 1276,
     "metadata": {},
     "output_type": "execute_result"
    }
   ],
   "source": [
    "import pandas as pd\n",
    "\n",
    "\n",
    "print(Ek)\n",
    "EK = np.dot(Ek,wT)\n",
    "print(\"ekspektasi return = \", EK)\n",
    "risk = w.dot(C).dot(wT)\n",
    "print(\"risk = \",risk)\n",
    "\n",
    "portfolio=[round(x,4) for x in w]\n",
    "portfolio.append(EK)\n",
    "portfolio.append(risk)\n",
    "print(portfolio)\n",
    "kode_saham = [\"s1\",\"s2\",\"s3\",\"s4\",\"s5\"]\n",
    "df_port = pd.DataFrame([portfolio])\n",
    "column = kode_saham\n",
    "print(kode_saham)\n",
    "column.append(\"Expected Return\")\n",
    "column.append(\"Risiko\")\n",
    "df_port.columns = column\n",
    "df_port"
   ]
  },
  {
   "cell_type": "markdown",
   "metadata": {},
   "source": [
    "# membangun portofolio eficien frontier\n"
   ]
  },
  {
   "cell_type": "code",
   "execution_count": 1277,
   "metadata": {},
   "outputs": [
    {
     "name": "stdout",
     "output_type": "stream",
     "text": [
      "[array([ 2.00498993, -1.41947048, -0.54471633, -0.47087303,  1.43006991]), array([ 2.36436733, -1.78896398, -0.71996904, -0.58378207,  1.72834776]), array([ 2.7956202 , -2.23235619, -0.93027228, -0.71927291,  2.08628117]), array([ 3.31312365, -2.76442683, -1.18263617, -0.88186191,  2.51580127])]\n",
      "[0.12, 0.144, 0.17279999999999998, 0.20735999999999996]\n"
     ]
    }
   ],
   "source": [
    "mT = np.transpose(Ek)\n",
    "e_r = 0.1\n",
    "w_new = []\n",
    "list_EK = []\n",
    "for i in range(4) :\n",
    "  e_r *= 1.2\n",
    "  list_EK.append(e_r)\n",
    "  \n",
    "  matA = np.dot(u,(CInv))\n",
    "  matB = np.dot(m,(CInv))\n",
    "  mat1 = u.dot(CInv).dot(mT)\n",
    "  mat2 = matB.dot(mT)\n",
    "  mat3 = matA.dot(uT)\n",
    "  mat4 = matB.dot(uT)\n",
    "\n",
    "  A1 = np.array([[1,mat1],[e_r,mat2]]) \n",
    "  A2 = np.array([[mat3,1],[mat4,e_r]])\n",
    "  A3 = np.array([[mat3,mat1],[mat4,mat2]])\n",
    "\n",
    "  det1 = det([[1,mat1],[e_r,mat2]])\n",
    "  det2 = det([[mat3,1],[mat4,e_r]])\n",
    "  det3 = det([[mat3,mat1],[mat4,mat2]])\n",
    "  w = ((det1*matA)+(det2*matB))/det3\n",
    "  w_new.append(w)\n",
    "print(w_new)\n",
    "print(list_EK)"
   ]
  },
  {
   "cell_type": "code",
   "execution_count": 1278,
   "metadata": {},
   "outputs": [
    {
     "name": "stdout",
     "output_type": "stream",
     "text": [
      "[[2.0049899338645156, -1.4194704813453063, -0.5447163328374643, -0.47087303291175037, 1.4300699132300094, 0.12, 0.03263196998485129], [2.364367327928477, -1.7889639835126314, -0.7199690357396088, -0.5837820662362339, 1.728347757560002, 0.144, 0.04791329132407657], [2.7956202008052284, -2.2323561861134222, -0.9302722792221834, -0.7192729062256141, 2.0862811707559916, 0.17279999999999998, 0.07014338328862106], [3.313123648257334, -2.76442682923437, -1.1826361714012703, -0.8818619142128702, 2.5158012665911818, 0.20735999999999996, 0.10242470280083754]]\n"
     ]
    },
    {
     "data": {
      "text/html": [
       "<div>\n",
       "<style scoped>\n",
       "    .dataframe tbody tr th:only-of-type {\n",
       "        vertical-align: middle;\n",
       "    }\n",
       "\n",
       "    .dataframe tbody tr th {\n",
       "        vertical-align: top;\n",
       "    }\n",
       "\n",
       "    .dataframe thead th {\n",
       "        text-align: right;\n",
       "    }\n",
       "</style>\n",
       "<table border=\"1\" class=\"dataframe\">\n",
       "  <thead>\n",
       "    <tr style=\"text-align: right;\">\n",
       "      <th></th>\n",
       "      <th>s1</th>\n",
       "      <th>s2</th>\n",
       "      <th>s3</th>\n",
       "      <th>s4</th>\n",
       "      <th>s5</th>\n",
       "      <th>Expected Return</th>\n",
       "      <th>Risiko</th>\n",
       "    </tr>\n",
       "  </thead>\n",
       "  <tbody>\n",
       "    <tr>\n",
       "      <td>0</td>\n",
       "      <td>0.322400</td>\n",
       "      <td>0.310500</td>\n",
       "      <td>0.275800</td>\n",
       "      <td>0.057800</td>\n",
       "      <td>0.033500</td>\n",
       "      <td>0.00763</td>\n",
       "      <td>0.000309</td>\n",
       "    </tr>\n",
       "    <tr>\n",
       "      <td>1</td>\n",
       "      <td>2.004990</td>\n",
       "      <td>-1.419470</td>\n",
       "      <td>-0.544716</td>\n",
       "      <td>-0.470873</td>\n",
       "      <td>1.430070</td>\n",
       "      <td>0.12000</td>\n",
       "      <td>0.032632</td>\n",
       "    </tr>\n",
       "    <tr>\n",
       "      <td>2</td>\n",
       "      <td>2.364367</td>\n",
       "      <td>-1.788964</td>\n",
       "      <td>-0.719969</td>\n",
       "      <td>-0.583782</td>\n",
       "      <td>1.728348</td>\n",
       "      <td>0.14400</td>\n",
       "      <td>0.047913</td>\n",
       "    </tr>\n",
       "    <tr>\n",
       "      <td>3</td>\n",
       "      <td>2.795620</td>\n",
       "      <td>-2.232356</td>\n",
       "      <td>-0.930272</td>\n",
       "      <td>-0.719273</td>\n",
       "      <td>2.086281</td>\n",
       "      <td>0.17280</td>\n",
       "      <td>0.070143</td>\n",
       "    </tr>\n",
       "    <tr>\n",
       "      <td>4</td>\n",
       "      <td>3.313124</td>\n",
       "      <td>-2.764427</td>\n",
       "      <td>-1.182636</td>\n",
       "      <td>-0.881862</td>\n",
       "      <td>2.515801</td>\n",
       "      <td>0.20736</td>\n",
       "      <td>0.102425</td>\n",
       "    </tr>\n",
       "  </tbody>\n",
       "</table>\n",
       "</div>"
      ],
      "text/plain": [
       "         s1        s2        s3        s4        s5  Expected Return    Risiko\n",
       "0  0.322400  0.310500  0.275800  0.057800  0.033500          0.00763  0.000309\n",
       "1  2.004990 -1.419470 -0.544716 -0.470873  1.430070          0.12000  0.032632\n",
       "2  2.364367 -1.788964 -0.719969 -0.583782  1.728348          0.14400  0.047913\n",
       "3  2.795620 -2.232356 -0.930272 -0.719273  2.086281          0.17280  0.070143\n",
       "4  3.313124 -2.764427 -1.182636 -0.881862  2.515801          0.20736  0.102425"
      ]
     },
     "execution_count": 1278,
     "metadata": {},
     "output_type": "execute_result"
    }
   ],
   "source": [
    "list_bobot = []\n",
    "i = 0\n",
    "for bobot in w_new :\n",
    "  tmp = []\n",
    "  wT = np.transpose(bobot)\n",
    "  risk = bobot.dot(C).dot(wT)\n",
    "  for x in bobot :\n",
    "    tmp.append(x)\n",
    "  tmp.append(list_EK[i])\n",
    "  tmp.append(risk)\n",
    "  list_bobot.append(tmp)\n",
    "  i+=1\n",
    "print(list_bobot)\n",
    "df = pd.DataFrame(list_bobot)\n",
    "df.columns = kode_saham\n",
    "df_port = df_port.append(df,ignore_index=True)\n",
    "df_port"
   ]
  },
  {
   "cell_type": "code",
   "execution_count": 1279,
   "metadata": {},
   "outputs": [
    {
     "data": {
      "text/plain": [
       "array([0.32235024, 0.31053381, 0.27583376, 0.05777797, 0.03350422])"
      ]
     },
     "execution_count": 1279,
     "metadata": {},
     "output_type": "execute_result"
    }
   ],
   "source": [
    "WT=WT\n",
    "WT"
   ]
  },
  {
   "cell_type": "markdown",
   "metadata": {},
   "source": [
    "# hasil plot grafik portofolio frontier"
   ]
  },
  {
   "cell_type": "code",
   "execution_count": 1280,
   "metadata": {},
   "outputs": [
    {
     "data": {
      "image/png": "[encoded data removed]",
      "text/plain": [
       "<Figure size 432x288 with 1 Axes>"
      ]
     },
     "metadata": {
      "needs_background": "light"
     },
     "output_type": "display_data"
    }
   ],
   "source": [
    "import matplotlib.pyplot as plt\n",
    "\n",
    "y = df_port[\"Risiko\"]\n",
    "x = df_port[\"Expected Return\"]\n",
    "\n",
    "plt.plot(x,y)\n",
    "plt.scatter(x,y)\n",
    "plt.xlabel(\"Expected Return\")\n",
    "plt.ylabel(\"Risiko\")\n",
    "plt.show()"
   ]
  },
  {
   "cell_type": "markdown",
   "metadata": {},
   "source": [
    "# load data 2019"
   ]
  },
  {
   "cell_type": "code",
   "execution_count": 1281,
   "metadata": {},
   "outputs": [],
   "source": [
    "saham119=pd.read_csv('ACES19.csv')\n",
    "saham219=pd.read_csv('GGRM19.csv')\n",
    "saham319=pd.read_csv('SMSM19.csv')\n",
    "saham419=pd.read_csv('INCO19.csv')\n",
    "saham519=pd.read_csv('MAPI19.csv')"
   ]
  },
  {
   "cell_type": "code",
   "execution_count": 1282,
   "metadata": {},
   "outputs": [],
   "source": [
    "Return119=[]\n",
    "Return219=[]\n",
    "Return319=[]\n",
    "Return419=[]\n",
    "Return519=[]\n",
    "saham119=saham119.iloc[:,[0,1]]\n",
    "saham219=saham219.iloc[:,[0,1]]\n",
    "saham319=saham319.iloc[:,[0,1]]\n",
    "saham419=saham419.iloc[:,[0,1]]\n",
    "saham519=saham519.iloc[:,[0,1]]"
   ]
  },
  {
   "cell_type": "code",
   "execution_count": 1283,
   "metadata": {},
   "outputs": [
    {
     "data": {
      "text/html": [
       "<div>\n",
       "<style scoped>\n",
       "    .dataframe tbody tr th:only-of-type {\n",
       "        vertical-align: middle;\n",
       "    }\n",
       "\n",
       "    .dataframe tbody tr th {\n",
       "        vertical-align: top;\n",
       "    }\n",
       "\n",
       "    .dataframe thead th {\n",
       "        text-align: right;\n",
       "    }\n",
       "</style>\n",
       "<table border=\"1\" class=\"dataframe\">\n",
       "  <thead>\n",
       "    <tr style=\"text-align: right;\">\n",
       "      <th></th>\n",
       "      <th>Tanggal</th>\n",
       "      <th>Terakhir</th>\n",
       "    </tr>\n",
       "  </thead>\n",
       "  <tbody>\n",
       "    <tr>\n",
       "      <td>50</td>\n",
       "      <td>2019-01-06</td>\n",
       "      <td>1.690</td>\n",
       "    </tr>\n",
       "    <tr>\n",
       "      <td>49</td>\n",
       "      <td>2019-01-13</td>\n",
       "      <td>1.760</td>\n",
       "    </tr>\n",
       "    <tr>\n",
       "      <td>48</td>\n",
       "      <td>2019-01-20</td>\n",
       "      <td>1.775</td>\n",
       "    </tr>\n",
       "    <tr>\n",
       "      <td>47</td>\n",
       "      <td>2019-01-27</td>\n",
       "      <td>1.775</td>\n",
       "    </tr>\n",
       "    <tr>\n",
       "      <td>46</td>\n",
       "      <td>2019-02-03</td>\n",
       "      <td>1.755</td>\n",
       "    </tr>\n",
       "    <tr>\n",
       "      <td>45</td>\n",
       "      <td>2019-02-10</td>\n",
       "      <td>1.705</td>\n",
       "    </tr>\n",
       "    <tr>\n",
       "      <td>44</td>\n",
       "      <td>2019-02-17</td>\n",
       "      <td>1.810</td>\n",
       "    </tr>\n",
       "    <tr>\n",
       "      <td>43</td>\n",
       "      <td>2019-02-24</td>\n",
       "      <td>1.800</td>\n",
       "    </tr>\n",
       "    <tr>\n",
       "      <td>42</td>\n",
       "      <td>2019-03-03</td>\n",
       "      <td>1.760</td>\n",
       "    </tr>\n",
       "    <tr>\n",
       "      <td>41</td>\n",
       "      <td>2019-03-10</td>\n",
       "      <td>1.805</td>\n",
       "    </tr>\n",
       "    <tr>\n",
       "      <td>40</td>\n",
       "      <td>2019-03-17</td>\n",
       "      <td>1.840</td>\n",
       "    </tr>\n",
       "    <tr>\n",
       "      <td>39</td>\n",
       "      <td>2019-03-24</td>\n",
       "      <td>1.780</td>\n",
       "    </tr>\n",
       "    <tr>\n",
       "      <td>38</td>\n",
       "      <td>2019-03-31</td>\n",
       "      <td>1.660</td>\n",
       "    </tr>\n",
       "    <tr>\n",
       "      <td>37</td>\n",
       "      <td>2019-04-07</td>\n",
       "      <td>1.775</td>\n",
       "    </tr>\n",
       "    <tr>\n",
       "      <td>36</td>\n",
       "      <td>2019-04-14</td>\n",
       "      <td>1.635</td>\n",
       "    </tr>\n",
       "    <tr>\n",
       "      <td>35</td>\n",
       "      <td>2019-04-21</td>\n",
       "      <td>1.555</td>\n",
       "    </tr>\n",
       "    <tr>\n",
       "      <td>34</td>\n",
       "      <td>2019-04-28</td>\n",
       "      <td>1.615</td>\n",
       "    </tr>\n",
       "    <tr>\n",
       "      <td>33</td>\n",
       "      <td>2019-05-05</td>\n",
       "      <td>1.610</td>\n",
       "    </tr>\n",
       "    <tr>\n",
       "      <td>32</td>\n",
       "      <td>2019-05-12</td>\n",
       "      <td>1.640</td>\n",
       "    </tr>\n",
       "    <tr>\n",
       "      <td>31</td>\n",
       "      <td>2019-05-19</td>\n",
       "      <td>1.645</td>\n",
       "    </tr>\n",
       "    <tr>\n",
       "      <td>30</td>\n",
       "      <td>2019-05-26</td>\n",
       "      <td>1.735</td>\n",
       "    </tr>\n",
       "    <tr>\n",
       "      <td>29</td>\n",
       "      <td>2019-06-09</td>\n",
       "      <td>1.800</td>\n",
       "    </tr>\n",
       "    <tr>\n",
       "      <td>28</td>\n",
       "      <td>2019-06-16</td>\n",
       "      <td>1.795</td>\n",
       "    </tr>\n",
       "    <tr>\n",
       "      <td>27</td>\n",
       "      <td>2019-06-23</td>\n",
       "      <td>1.810</td>\n",
       "    </tr>\n",
       "    <tr>\n",
       "      <td>26</td>\n",
       "      <td>2019-06-30</td>\n",
       "      <td>1.825</td>\n",
       "    </tr>\n",
       "    <tr>\n",
       "      <td>25</td>\n",
       "      <td>2019-07-07</td>\n",
       "      <td>1.805</td>\n",
       "    </tr>\n",
       "    <tr>\n",
       "      <td>24</td>\n",
       "      <td>2019-07-14</td>\n",
       "      <td>1.725</td>\n",
       "    </tr>\n",
       "    <tr>\n",
       "      <td>23</td>\n",
       "      <td>2019-07-21</td>\n",
       "      <td>1.800</td>\n",
       "    </tr>\n",
       "    <tr>\n",
       "      <td>22</td>\n",
       "      <td>2019-07-28</td>\n",
       "      <td>1.715</td>\n",
       "    </tr>\n",
       "    <tr>\n",
       "      <td>21</td>\n",
       "      <td>2019-08-04</td>\n",
       "      <td>1.725</td>\n",
       "    </tr>\n",
       "    <tr>\n",
       "      <td>20</td>\n",
       "      <td>2019-08-11</td>\n",
       "      <td>1.745</td>\n",
       "    </tr>\n",
       "    <tr>\n",
       "      <td>19</td>\n",
       "      <td>2019-08-18</td>\n",
       "      <td>1.760</td>\n",
       "    </tr>\n",
       "    <tr>\n",
       "      <td>18</td>\n",
       "      <td>2019-08-25</td>\n",
       "      <td>1.725</td>\n",
       "    </tr>\n",
       "    <tr>\n",
       "      <td>17</td>\n",
       "      <td>2019-09-01</td>\n",
       "      <td>1.745</td>\n",
       "    </tr>\n",
       "    <tr>\n",
       "      <td>16</td>\n",
       "      <td>2019-09-08</td>\n",
       "      <td>1.790</td>\n",
       "    </tr>\n",
       "    <tr>\n",
       "      <td>15</td>\n",
       "      <td>2019-09-15</td>\n",
       "      <td>1.735</td>\n",
       "    </tr>\n",
       "    <tr>\n",
       "      <td>14</td>\n",
       "      <td>2019-09-22</td>\n",
       "      <td>1.770</td>\n",
       "    </tr>\n",
       "    <tr>\n",
       "      <td>13</td>\n",
       "      <td>2019-09-29</td>\n",
       "      <td>1.770</td>\n",
       "    </tr>\n",
       "    <tr>\n",
       "      <td>12</td>\n",
       "      <td>2019-10-06</td>\n",
       "      <td>1.770</td>\n",
       "    </tr>\n",
       "    <tr>\n",
       "      <td>11</td>\n",
       "      <td>2019-10-13</td>\n",
       "      <td>1.880</td>\n",
       "    </tr>\n",
       "    <tr>\n",
       "      <td>10</td>\n",
       "      <td>2019-10-20</td>\n",
       "      <td>1.810</td>\n",
       "    </tr>\n",
       "    <tr>\n",
       "      <td>9</td>\n",
       "      <td>2019-10-27</td>\n",
       "      <td>1.700</td>\n",
       "    </tr>\n",
       "    <tr>\n",
       "      <td>8</td>\n",
       "      <td>2019-11-03</td>\n",
       "      <td>1.715</td>\n",
       "    </tr>\n",
       "    <tr>\n",
       "      <td>7</td>\n",
       "      <td>2019-11-10</td>\n",
       "      <td>1.695</td>\n",
       "    </tr>\n",
       "    <tr>\n",
       "      <td>6</td>\n",
       "      <td>2019-11-17</td>\n",
       "      <td>1.690</td>\n",
       "    </tr>\n",
       "    <tr>\n",
       "      <td>5</td>\n",
       "      <td>2019-11-24</td>\n",
       "      <td>1.580</td>\n",
       "    </tr>\n",
       "    <tr>\n",
       "      <td>4</td>\n",
       "      <td>2019-12-01</td>\n",
       "      <td>1.485</td>\n",
       "    </tr>\n",
       "    <tr>\n",
       "      <td>3</td>\n",
       "      <td>2019-12-08</td>\n",
       "      <td>1.550</td>\n",
       "    </tr>\n",
       "    <tr>\n",
       "      <td>2</td>\n",
       "      <td>2019-12-15</td>\n",
       "      <td>1.600</td>\n",
       "    </tr>\n",
       "    <tr>\n",
       "      <td>1</td>\n",
       "      <td>2019-12-22</td>\n",
       "      <td>1.550</td>\n",
       "    </tr>\n",
       "    <tr>\n",
       "      <td>0</td>\n",
       "      <td>2019-12-29</td>\n",
       "      <td>1.515</td>\n",
       "    </tr>\n",
       "  </tbody>\n",
       "</table>\n",
       "</div>"
      ],
      "text/plain": [
       "      Tanggal  Terakhir\n",
       "50 2019-01-06     1.690\n",
       "49 2019-01-13     1.760\n",
       "48 2019-01-20     1.775\n",
       "47 2019-01-27     1.775\n",
       "46 2019-02-03     1.755\n",
       "45 2019-02-10     1.705\n",
       "44 2019-02-17     1.810\n",
       "43 2019-02-24     1.800\n",
       "42 2019-03-03     1.760\n",
       "41 2019-03-10     1.805\n",
       "40 2019-03-17     1.840\n",
       "39 2019-03-24     1.780\n",
       "38 2019-03-31     1.660\n",
       "37 2019-04-07     1.775\n",
       "36 2019-04-14     1.635\n",
       "35 2019-04-21     1.555\n",
       "34 2019-04-28     1.615\n",
       "33 2019-05-05     1.610\n",
       "32 2019-05-12     1.640\n",
       "31 2019-05-19     1.645\n",
       "30 2019-05-26     1.735\n",
       "29 2019-06-09     1.800\n",
       "28 2019-06-16     1.795\n",
       "27 2019-06-23     1.810\n",
       "26 2019-06-30     1.825\n",
       "25 2019-07-07     1.805\n",
       "24 2019-07-14     1.725\n",
       "23 2019-07-21     1.800\n",
       "22 2019-07-28     1.715\n",
       "21 2019-08-04     1.725\n",
       "20 2019-08-11     1.745\n",
       "19 2019-08-18     1.760\n",
       "18 2019-08-25     1.725\n",
       "17 2019-09-01     1.745\n",
       "16 2019-09-08     1.790\n",
       "15 2019-09-15     1.735\n",
       "14 2019-09-22     1.770\n",
       "13 2019-09-29     1.770\n",
       "12 2019-10-06     1.770\n",
       "11 2019-10-13     1.880\n",
       "10 2019-10-20     1.810\n",
       "9  2019-10-27     1.700\n",
       "8  2019-11-03     1.715\n",
       "7  2019-11-10     1.695\n",
       "6  2019-11-17     1.690\n",
       "5  2019-11-24     1.580\n",
       "4  2019-12-01     1.485\n",
       "3  2019-12-08     1.550\n",
       "2  2019-12-15     1.600\n",
       "1  2019-12-22     1.550\n",
       "0  2019-12-29     1.515"
      ]
     },
     "execution_count": 1283,
     "metadata": {},
     "output_type": "execute_result"
    }
   ],
   "source": [
    "saham119[\"Tanggal\"]=pd.to_datetime(saham119['Tanggal'], format=\"%d/%m/%Y\")\n",
    "saham219[\"Tanggal\"]=pd.to_datetime(saham219['Tanggal'], format=\"%d/%m/%Y\")\n",
    "saham319[\"Tanggal\"]=pd.to_datetime(saham319['Tanggal'], format=\"%d/%m/%Y\")\n",
    "saham419[\"Tanggal\"]=pd.to_datetime(saham419['Tanggal'], format=\"%d/%m/%Y\")\n",
    "saham519[\"Tanggal\"]=pd.to_datetime(saham519['Tanggal'], format=\"%d/%m/%Y\")\n",
    "saham119=saham119.sort_values(by='Tanggal',ascending=True)\n",
    "saham219=saham219.sort_values(by='Tanggal',ascending=True)\n",
    "saham319=saham319.sort_values(by='Tanggal',ascending=True)\n",
    "saham419=saham419.sort_values(by='Tanggal',ascending=True)\n",
    "saham519=saham519.sort_values(by='Tanggal',ascending=True)\n",
    "saham119"
   ]
  },
  {
   "cell_type": "code",
   "execution_count": 1284,
   "metadata": {},
   "outputs": [
    {
     "data": {
      "text/html": [
       "<div>\n",
       "<style scoped>\n",
       "    .dataframe tbody tr th:only-of-type {\n",
       "        vertical-align: middle;\n",
       "    }\n",
       "\n",
       "    .dataframe tbody tr th {\n",
       "        vertical-align: top;\n",
       "    }\n",
       "\n",
       "    .dataframe thead th {\n",
       "        text-align: right;\n",
       "    }\n",
       "</style>\n",
       "<table border=\"1\" class=\"dataframe\">\n",
       "  <thead>\n",
       "    <tr style=\"text-align: right;\">\n",
       "      <th></th>\n",
       "      <th>Tanggal</th>\n",
       "      <th>Terakhir</th>\n",
       "    </tr>\n",
       "  </thead>\n",
       "  <tbody>\n",
       "    <tr>\n",
       "      <td>50</td>\n",
       "      <td>2019-01-06</td>\n",
       "      <td>1.690</td>\n",
       "    </tr>\n",
       "    <tr>\n",
       "      <td>49</td>\n",
       "      <td>2019-01-13</td>\n",
       "      <td>1.760</td>\n",
       "    </tr>\n",
       "    <tr>\n",
       "      <td>48</td>\n",
       "      <td>2019-01-20</td>\n",
       "      <td>1.775</td>\n",
       "    </tr>\n",
       "    <tr>\n",
       "      <td>47</td>\n",
       "      <td>2019-01-27</td>\n",
       "      <td>1.775</td>\n",
       "    </tr>\n",
       "    <tr>\n",
       "      <td>46</td>\n",
       "      <td>2019-02-03</td>\n",
       "      <td>1.755</td>\n",
       "    </tr>\n",
       "    <tr>\n",
       "      <td>45</td>\n",
       "      <td>2019-02-10</td>\n",
       "      <td>1.705</td>\n",
       "    </tr>\n",
       "    <tr>\n",
       "      <td>44</td>\n",
       "      <td>2019-02-17</td>\n",
       "      <td>1.810</td>\n",
       "    </tr>\n",
       "    <tr>\n",
       "      <td>43</td>\n",
       "      <td>2019-02-24</td>\n",
       "      <td>1.800</td>\n",
       "    </tr>\n",
       "    <tr>\n",
       "      <td>42</td>\n",
       "      <td>2019-03-03</td>\n",
       "      <td>1.760</td>\n",
       "    </tr>\n",
       "    <tr>\n",
       "      <td>41</td>\n",
       "      <td>2019-03-10</td>\n",
       "      <td>1.805</td>\n",
       "    </tr>\n",
       "    <tr>\n",
       "      <td>40</td>\n",
       "      <td>2019-03-17</td>\n",
       "      <td>1.840</td>\n",
       "    </tr>\n",
       "    <tr>\n",
       "      <td>39</td>\n",
       "      <td>2019-03-24</td>\n",
       "      <td>1.780</td>\n",
       "    </tr>\n",
       "    <tr>\n",
       "      <td>38</td>\n",
       "      <td>2019-03-31</td>\n",
       "      <td>1.660</td>\n",
       "    </tr>\n",
       "    <tr>\n",
       "      <td>37</td>\n",
       "      <td>2019-04-07</td>\n",
       "      <td>1.775</td>\n",
       "    </tr>\n",
       "    <tr>\n",
       "      <td>36</td>\n",
       "      <td>2019-04-14</td>\n",
       "      <td>1.635</td>\n",
       "    </tr>\n",
       "    <tr>\n",
       "      <td>35</td>\n",
       "      <td>2019-04-21</td>\n",
       "      <td>1.555</td>\n",
       "    </tr>\n",
       "    <tr>\n",
       "      <td>34</td>\n",
       "      <td>2019-04-28</td>\n",
       "      <td>1.615</td>\n",
       "    </tr>\n",
       "    <tr>\n",
       "      <td>33</td>\n",
       "      <td>2019-05-05</td>\n",
       "      <td>1.610</td>\n",
       "    </tr>\n",
       "    <tr>\n",
       "      <td>32</td>\n",
       "      <td>2019-05-12</td>\n",
       "      <td>1.640</td>\n",
       "    </tr>\n",
       "    <tr>\n",
       "      <td>31</td>\n",
       "      <td>2019-05-19</td>\n",
       "      <td>1.645</td>\n",
       "    </tr>\n",
       "    <tr>\n",
       "      <td>30</td>\n",
       "      <td>2019-05-26</td>\n",
       "      <td>1.735</td>\n",
       "    </tr>\n",
       "    <tr>\n",
       "      <td>29</td>\n",
       "      <td>2019-06-09</td>\n",
       "      <td>1.800</td>\n",
       "    </tr>\n",
       "    <tr>\n",
       "      <td>28</td>\n",
       "      <td>2019-06-16</td>\n",
       "      <td>1.795</td>\n",
       "    </tr>\n",
       "    <tr>\n",
       "      <td>27</td>\n",
       "      <td>2019-06-23</td>\n",
       "      <td>1.810</td>\n",
       "    </tr>\n",
       "    <tr>\n",
       "      <td>26</td>\n",
       "      <td>2019-06-30</td>\n",
       "      <td>1.825</td>\n",
       "    </tr>\n",
       "    <tr>\n",
       "      <td>25</td>\n",
       "      <td>2019-07-07</td>\n",
       "      <td>1.805</td>\n",
       "    </tr>\n",
       "    <tr>\n",
       "      <td>24</td>\n",
       "      <td>2019-07-14</td>\n",
       "      <td>1.725</td>\n",
       "    </tr>\n",
       "    <tr>\n",
       "      <td>23</td>\n",
       "      <td>2019-07-21</td>\n",
       "      <td>1.800</td>\n",
       "    </tr>\n",
       "    <tr>\n",
       "      <td>22</td>\n",
       "      <td>2019-07-28</td>\n",
       "      <td>1.715</td>\n",
       "    </tr>\n",
       "    <tr>\n",
       "      <td>21</td>\n",
       "      <td>2019-08-04</td>\n",
       "      <td>1.725</td>\n",
       "    </tr>\n",
       "    <tr>\n",
       "      <td>20</td>\n",
       "      <td>2019-08-11</td>\n",
       "      <td>1.745</td>\n",
       "    </tr>\n",
       "    <tr>\n",
       "      <td>19</td>\n",
       "      <td>2019-08-18</td>\n",
       "      <td>1.760</td>\n",
       "    </tr>\n",
       "    <tr>\n",
       "      <td>18</td>\n",
       "      <td>2019-08-25</td>\n",
       "      <td>1.725</td>\n",
       "    </tr>\n",
       "    <tr>\n",
       "      <td>17</td>\n",
       "      <td>2019-09-01</td>\n",
       "      <td>1.745</td>\n",
       "    </tr>\n",
       "    <tr>\n",
       "      <td>16</td>\n",
       "      <td>2019-09-08</td>\n",
       "      <td>1.790</td>\n",
       "    </tr>\n",
       "    <tr>\n",
       "      <td>15</td>\n",
       "      <td>2019-09-15</td>\n",
       "      <td>1.735</td>\n",
       "    </tr>\n",
       "    <tr>\n",
       "      <td>14</td>\n",
       "      <td>2019-09-22</td>\n",
       "      <td>1.770</td>\n",
       "    </tr>\n",
       "    <tr>\n",
       "      <td>13</td>\n",
       "      <td>2019-09-29</td>\n",
       "      <td>1.770</td>\n",
       "    </tr>\n",
       "    <tr>\n",
       "      <td>12</td>\n",
       "      <td>2019-10-06</td>\n",
       "      <td>1.770</td>\n",
       "    </tr>\n",
       "    <tr>\n",
       "      <td>11</td>\n",
       "      <td>2019-10-13</td>\n",
       "      <td>1.880</td>\n",
       "    </tr>\n",
       "    <tr>\n",
       "      <td>10</td>\n",
       "      <td>2019-10-20</td>\n",
       "      <td>1.810</td>\n",
       "    </tr>\n",
       "    <tr>\n",
       "      <td>9</td>\n",
       "      <td>2019-10-27</td>\n",
       "      <td>1.700</td>\n",
       "    </tr>\n",
       "    <tr>\n",
       "      <td>8</td>\n",
       "      <td>2019-11-03</td>\n",
       "      <td>1.715</td>\n",
       "    </tr>\n",
       "    <tr>\n",
       "      <td>7</td>\n",
       "      <td>2019-11-10</td>\n",
       "      <td>1.695</td>\n",
       "    </tr>\n",
       "    <tr>\n",
       "      <td>6</td>\n",
       "      <td>2019-11-17</td>\n",
       "      <td>1.690</td>\n",
       "    </tr>\n",
       "    <tr>\n",
       "      <td>5</td>\n",
       "      <td>2019-11-24</td>\n",
       "      <td>1.580</td>\n",
       "    </tr>\n",
       "    <tr>\n",
       "      <td>4</td>\n",
       "      <td>2019-12-01</td>\n",
       "      <td>1.485</td>\n",
       "    </tr>\n",
       "    <tr>\n",
       "      <td>3</td>\n",
       "      <td>2019-12-08</td>\n",
       "      <td>1.550</td>\n",
       "    </tr>\n",
       "    <tr>\n",
       "      <td>2</td>\n",
       "      <td>2019-12-15</td>\n",
       "      <td>1.600</td>\n",
       "    </tr>\n",
       "    <tr>\n",
       "      <td>1</td>\n",
       "      <td>2019-12-22</td>\n",
       "      <td>1.550</td>\n",
       "    </tr>\n",
       "    <tr>\n",
       "      <td>0</td>\n",
       "      <td>2019-12-29</td>\n",
       "      <td>1.515</td>\n",
       "    </tr>\n",
       "  </tbody>\n",
       "</table>\n",
       "</div>"
      ],
      "text/plain": [
       "      Tanggal  Terakhir\n",
       "50 2019-01-06     1.690\n",
       "49 2019-01-13     1.760\n",
       "48 2019-01-20     1.775\n",
       "47 2019-01-27     1.775\n",
       "46 2019-02-03     1.755\n",
       "45 2019-02-10     1.705\n",
       "44 2019-02-17     1.810\n",
       "43 2019-02-24     1.800\n",
       "42 2019-03-03     1.760\n",
       "41 2019-03-10     1.805\n",
       "40 2019-03-17     1.840\n",
       "39 2019-03-24     1.780\n",
       "38 2019-03-31     1.660\n",
       "37 2019-04-07     1.775\n",
       "36 2019-04-14     1.635\n",
       "35 2019-04-21     1.555\n",
       "34 2019-04-28     1.615\n",
       "33 2019-05-05     1.610\n",
       "32 2019-05-12     1.640\n",
       "31 2019-05-19     1.645\n",
       "30 2019-05-26     1.735\n",
       "29 2019-06-09     1.800\n",
       "28 2019-06-16     1.795\n",
       "27 2019-06-23     1.810\n",
       "26 2019-06-30     1.825\n",
       "25 2019-07-07     1.805\n",
       "24 2019-07-14     1.725\n",
       "23 2019-07-21     1.800\n",
       "22 2019-07-28     1.715\n",
       "21 2019-08-04     1.725\n",
       "20 2019-08-11     1.745\n",
       "19 2019-08-18     1.760\n",
       "18 2019-08-25     1.725\n",
       "17 2019-09-01     1.745\n",
       "16 2019-09-08     1.790\n",
       "15 2019-09-15     1.735\n",
       "14 2019-09-22     1.770\n",
       "13 2019-09-29     1.770\n",
       "12 2019-10-06     1.770\n",
       "11 2019-10-13     1.880\n",
       "10 2019-10-20     1.810\n",
       "9  2019-10-27     1.700\n",
       "8  2019-11-03     1.715\n",
       "7  2019-11-10     1.695\n",
       "6  2019-11-17     1.690\n",
       "5  2019-11-24     1.580\n",
       "4  2019-12-01     1.485\n",
       "3  2019-12-08     1.550\n",
       "2  2019-12-15     1.600\n",
       "1  2019-12-22     1.550\n",
       "0  2019-12-29     1.515"
      ]
     },
     "execution_count": 1284,
     "metadata": {},
     "output_type": "execute_result"
    }
   ],
   "source": [
    "for i in range(0,len(saham119)):\n",
    "    saham119.iloc[i,[1]]=saham119.iloc[i,[1]].values\n",
    "for i in range(0,len(saham219)):\n",
    "    saham219.iloc[i,[1]]=saham219.iloc[i,[1]].values\n",
    "for i in range(0,len(saham319)):\n",
    "    saham319.iloc[i,[1]]=saham319.iloc[i,[1]].values\n",
    "for i in range(0,len(saham419)):\n",
    "    saham419.iloc[i,[1]]=saham419.iloc[i,[1]].values\n",
    "for i in range(0,len(saham519)):\n",
    "    saham519.iloc[i,[1]]=saham519.iloc[i,[1]].values\n",
    "saham119"
   ]
  },
  {
   "cell_type": "code",
   "execution_count": 1285,
   "metadata": {},
   "outputs": [
    {
     "data": {
      "text/plain": [
       "array([[1.69 ],\n",
       "       [1.76 ],\n",
       "       [1.775],\n",
       "       [1.775],\n",
       "       [1.755],\n",
       "       [1.705],\n",
       "       [1.81 ],\n",
       "       [1.8  ],\n",
       "       [1.76 ],\n",
       "       [1.805],\n",
       "       [1.84 ],\n",
       "       [1.78 ],\n",
       "       [1.66 ],\n",
       "       [1.775],\n",
       "       [1.635],\n",
       "       [1.555],\n",
       "       [1.615],\n",
       "       [1.61 ],\n",
       "       [1.64 ],\n",
       "       [1.645],\n",
       "       [1.735],\n",
       "       [1.8  ],\n",
       "       [1.795],\n",
       "       [1.81 ],\n",
       "       [1.825],\n",
       "       [1.805],\n",
       "       [1.725],\n",
       "       [1.8  ],\n",
       "       [1.715],\n",
       "       [1.725],\n",
       "       [1.745],\n",
       "       [1.76 ],\n",
       "       [1.725],\n",
       "       [1.745],\n",
       "       [1.79 ],\n",
       "       [1.735],\n",
       "       [1.77 ],\n",
       "       [1.77 ],\n",
       "       [1.77 ],\n",
       "       [1.88 ],\n",
       "       [1.81 ],\n",
       "       [1.7  ],\n",
       "       [1.715],\n",
       "       [1.695],\n",
       "       [1.69 ],\n",
       "       [1.58 ],\n",
       "       [1.485],\n",
       "       [1.55 ],\n",
       "       [1.6  ],\n",
       "       [1.55 ],\n",
       "       [1.515]])"
      ]
     },
     "execution_count": 1285,
     "metadata": {},
     "output_type": "execute_result"
    }
   ],
   "source": [
    "\n",
    "X1=saham119.iloc[:,[1]].values\n",
    "X2=saham219.iloc[:,[1]].values\n",
    "X3=saham319.iloc[:,[1]].values\n",
    "X4=saham419.iloc[:,[1]].values\n",
    "X5=saham519.iloc[:,[1]].values\n",
    "X1"
   ]
  },
  {
   "cell_type": "code",
   "execution_count": 1286,
   "metadata": {},
   "outputs": [],
   "source": [
    "for i in range(1,len(saham119)):\n",
    "    Return119.append((X1[i]-X1[i-1])/X1[i-1])\n",
    "for i in range(1,len(saham219)):\n",
    "    Return219.append((X2[i]-X2[i-1])/X2[i-1])\n",
    "for i in range(1,len(saham319)):\n",
    "    Return319.append((X3[i]-X3[i-1])/X3[i-1])\n",
    "for i in range(1,len(saham419)):\n",
    "    Return419.append((X4[i]-X4[i-1])/X4[i-1])\n",
    "for i in range(1,len(saham519)):\n",
    "    Return519.append((X5[i]-X5[i-1])/X5[i-1])"
   ]
  },
  {
   "cell_type": "code",
   "execution_count": 1287,
   "metadata": {},
   "outputs": [],
   "source": [
    "x = np.dot(u,WT)\n",
    "x\n",
    "kekayaan=[]\n",
    "kekayaan.append(x)"
   ]
  },
  {
   "cell_type": "code",
   "execution_count": 1288,
   "metadata": {},
   "outputs": [],
   "source": [
    "for i in range(0,len(Return119)):\n",
    "    WT[0]=Return119[i]*WT[0]+WT[0]\n",
    "    WT[1]=Return219[i]*WT[1]+WT[1]\n",
    "    WT[2]=Return319[i]*WT[2]+WT[2]\n",
    "    WT[3]=Return419[i]*WT[3]+WT[3]\n",
    "    WT[4]=Return519[i]*WT[4]+WT[4]\n",
    "    kekayaan.append(np.dot(u,WT))"
   ]
  },
  {
   "cell_type": "code",
   "execution_count": 1289,
   "metadata": {},
   "outputs": [
    {
     "data": {
      "text/plain": [
       "array([2.88970777e-01, 2.01739766e-01, 2.81702564e-01, 5.87857295e-02,\n",
       "       3.93950678e-05])"
      ]
     },
     "execution_count": 1289,
     "metadata": {},
     "output_type": "execute_result"
    }
   ],
   "source": [
    "WT"
   ]
  },
  {
   "cell_type": "code",
   "execution_count": 1290,
   "metadata": {},
   "outputs": [
    {
     "data": {
      "text/plain": [
       "0.8312382323869509"
      ]
     },
     "execution_count": 1290,
     "metadata": {},
     "output_type": "execute_result"
    }
   ],
   "source": [
    "x = np.dot(u,WT)\n",
    "x"
   ]
  },
  {
   "cell_type": "code",
   "execution_count": 1292,
   "metadata": {},
   "outputs": [
    {
     "data": {
      "image/png": "[encoded data removed]",
      "text/plain": [
       "<Figure size 432x288 with 1 Axes>"
      ]
     },
     "metadata": {
      "needs_background": "light"
     },
     "output_type": "display_data"
    }
   ],
   "source": [
    "y = kekayaan\n",
    "x = saham119['Tanggal']\n",
    "\n",
    "plt.plot(x,y)\n",
    "plt.scatter(x,y)\n",
    "plt.xlabel(\"date\")\n",
    "plt.ylabel(\"kekayaan\")\n",
    "plt.show()"
   ]
  },
  {
   "cell_type": "code",
   "execution_count": null,
   "metadata": {},
   "outputs": [],
   "source": []
  },
  {
   "cell_type": "code",
   "execution_count": null,
   "metadata": {},
   "outputs": [],
   "source": []
  },
  {
   "cell_type": "code",
   "execution_count": null,
   "metadata": {},
   "outputs": [],
   "source": []
  },
  {
   "cell_type": "code",
   "execution_count": null,
   "metadata": {},
   "outputs": [],
   "source": []
  }
 ],
 "metadata": {
  "kernelspec": {
   "display_name": "Python 3",
   "language": "python",
   "name": "python3"
  },
  "language_info": {
   "codemirror_mode": {
    "name": "ipython",
    "version": 3
   },
   "file_extension": ".py",
   "mimetype": "text/x-python",
   "name": "python",
   "nbconvert_exporter": "python",
   "pygments_lexer": "ipython3",
   "version": "3.7.4"
  }
 },
 "nbformat": 4,
 "nbformat_minor": 2
}
